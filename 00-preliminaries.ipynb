{
 "cells": [
  {
   "cell_type": "markdown",
   "id": "c9972de6",
   "metadata": {},
   "source": [
    "## Setup\n",
    "\n",
    "### Recommended:\n",
    "\n",
    "1. Fork or clone the [GitHub repository](https://github.com/cescalara/jAG25-workshop.git) containing the course material, so that you have it locally\n",
    "\n",
    "```git clone https://github.com/cescalara/jAG25-workshop.git```\n",
    "\n",
    "2. Install the necessary python packages (using a virtual environment if possible)\n",
    "\n",
    "```pip install numpy scipy matplotlib ipykernel cmdstanpy arviz```\n",
    "\n",
    "3. Install the `cmdstan` package that we will use to run fits\n",
    "\n",
    "```install_cmdstan```\n",
    "\n",
    "4. Open the notebook using Jupyter, select the correct python kernel and get going."
   ]
  },
  {
   "cell_type": "markdown",
   "id": "83a128a8",
   "metadata": {
    "vscode": {
     "languageId": "plaintext"
    }
   },
   "source": [
    "We can check the necessary packages are installed"
   ]
  },
  {
   "cell_type": "code",
   "execution_count": null,
   "id": "9c2a9d7a",
   "metadata": {},
   "outputs": [],
   "source": [
    "import numpy as np\n",
    "from matplotlib import pyplot as plt\n",
    "from scipy import stats\n",
    "import arviz as av\n",
    "from cmdstanpy import CmdStanModel"
   ]
  },
  {
   "cell_type": "markdown",
   "id": "3f9b94b3",
   "metadata": {},
   "source": [
    "### Basic probability distributions\n",
    "\n",
    "Useful references:\n",
    "\n",
    "* scipy: https://docs.scipy.org/doc/scipy/reference/ "
   ]
  },
  {
   "cell_type": "markdown",
   "id": "d0edf69e",
   "metadata": {},
   "source": [
    "Plot the probability density function for a narrow uniform distribution between 1.1 and 1.6, with zero probability elsewhere"
   ]
  },
  {
   "cell_type": "code",
   "execution_count": null,
   "id": "660853ac",
   "metadata": {},
   "outputs": [],
   "source": [
    "x = np.linspace(1.0, 2.0, 400)\n",
    "uniform_dist = stats.uniform(1.1, 0.5)\n",
    "\n",
    "fig, ax = plt.subplots()\n",
    "ax.plot(x, uniform_dist.pdf(x))\n",
    "ax.set_xlabel(\"x\")\n",
    "ax.set_ylabel(\"p(x)\")"
   ]
  },
  {
   "cell_type": "markdown",
   "id": "5237fa42",
   "metadata": {},
   "source": [
    "What is the probability density at x=1.2?"
   ]
  },
  {
   "cell_type": "code",
   "execution_count": null,
   "id": "576a093b",
   "metadata": {},
   "outputs": [],
   "source": [
    "uniform_dist.pdf(1.2)"
   ]
  },
  {
   "cell_type": "markdown",
   "id": "cf7d785f",
   "metadata": {},
   "source": [
    "What is the integral of the probability density?\n",
    "\n",
    "$\\int_{-\\infty}^{\\infty} p(x)dx=?$\n"
   ]
  },
  {
   "cell_type": "code",
   "execution_count": null,
   "id": "97933083",
   "metadata": {},
   "outputs": [],
   "source": [
    "# TODO by you\n"
   ]
  },
  {
   "cell_type": "markdown",
   "id": "cde7dc56",
   "metadata": {},
   "source": [
    "Create a normal distribution object (`scipy.stats.norm`) centered at 1.5 with standard deviation 0.02. Plot its probability density distribution (PDF), and cumulative distribution function (CDF).\n"
   ]
  },
  {
   "cell_type": "code",
   "execution_count": null,
   "id": "39a6f451",
   "metadata": {},
   "outputs": [],
   "source": [
    "# norm_dist = ..."
   ]
  },
  {
   "cell_type": "markdown",
   "id": "fd72c88a",
   "metadata": {},
   "source": [
    "How much probability is below 1.48?"
   ]
  },
  {
   "cell_type": "code",
   "execution_count": null,
   "id": "fc2de1e9",
   "metadata": {},
   "outputs": [],
   "source": [
    "# ..."
   ]
  },
  {
   "cell_type": "markdown",
   "id": "bc194b55",
   "metadata": {},
   "source": [
    "How much probability is below 1.52?"
   ]
  },
  {
   "cell_type": "code",
   "execution_count": null,
   "id": "4439f329",
   "metadata": {},
   "outputs": [],
   "source": [
    "# ..."
   ]
  },
  {
   "cell_type": "markdown",
   "id": "8c155abb",
   "metadata": {},
   "source": [
    "Combine the above to find out how much probability is between 1.44 and 1.56. Dos this match what you expect from \"3 sigma\"?"
   ]
  },
  {
   "cell_type": "code",
   "execution_count": null,
   "id": "037232ab",
   "metadata": {},
   "outputs": [],
   "source": [
    "# ..."
   ]
  },
  {
   "cell_type": "markdown",
   "id": "e6d2d9b4",
   "metadata": {},
   "source": [
    "## Generating random numbers\n",
    "\n",
    "Useful references:\n",
    "\n",
    "* numpy.random: https://docs.scipy.org/doc/numpy-1.14.0/reference/routines.random.html \n",
    "* numpy User guide: https://numpy.org/doc/stable/user/\n",
    "* matplotlib for plotting: https://matplotlib.org/"
   ]
  },
  {
   "cell_type": "markdown",
   "id": "2eef1627",
   "metadata": {},
   "source": [
    "Create a grid from 1 to 1.5 with 101 points:"
   ]
  },
  {
   "cell_type": "code",
   "execution_count": null,
   "id": "57aa1ac4",
   "metadata": {},
   "outputs": [],
   "source": [
    "xgrid = np.linspace(1, 1.5, 101)\n",
    "xgrid"
   ]
  },
  {
   "cell_type": "markdown",
   "id": "26b85714",
   "metadata": {},
   "source": [
    "Set the seed to 42"
   ]
  },
  {
   "cell_type": "code",
   "execution_count": null,
   "id": "7b7b920f",
   "metadata": {},
   "outputs": [],
   "source": [
    "np.random.seed(42)"
   ]
  },
  {
   "cell_type": "markdown",
   "id": "5e4d8a01",
   "metadata": {},
   "source": [
    "For each value, generate a random number, Gaussian distributed centered at that value.\n",
    "Use standard deviation of 0.1 for the noise introduced."
   ]
  },
  {
   "cell_type": "code",
   "execution_count": null,
   "id": "93336ee4",
   "metadata": {},
   "outputs": [],
   "source": [
    "# measured = ..."
   ]
  },
  {
   "cell_type": "markdown",
   "id": "b5683fbe",
   "metadata": {},
   "source": [
    "Plot one against the other as a scatter plot. Assign each point a error bar of 0.1.\n"
   ]
  },
  {
   "cell_type": "code",
   "execution_count": null,
   "id": "8993b385",
   "metadata": {},
   "outputs": [],
   "source": [
    "plt.errorbar(x=xgrid, y=measured, yerr=0.1, marker='o', ls=' ')\n",
    "plt.plot(xgrid, xgrid)\n",
    "plt.xlabel('x values')\n",
    "plt.ylabel('Measured values');"
   ]
  },
  {
   "cell_type": "markdown",
   "id": "e3b448d4",
   "metadata": {},
   "source": [
    "Plot a histogram of the measured values.\n"
   ]
  },
  {
   "cell_type": "code",
   "execution_count": null,
   "id": "ad6bb020",
   "metadata": {},
   "outputs": [],
   "source": [
    "fig, ax = plt.subplots()\n",
    "# ax.hist(...)"
   ]
  },
  {
   "cell_type": "markdown",
   "id": "1d3d882b",
   "metadata": {},
   "source": [
    "Compute summary statistics of this distribution: mean, median, standard deviation, 1% and 99% quantile."
   ]
  },
  {
   "cell_type": "code",
   "execution_count": null,
   "id": "2e637031",
   "metadata": {},
   "outputs": [],
   "source": [
    "# np.mean(...)\n",
    "# np.quantile(...)"
   ]
  },
  {
   "cell_type": "code",
   "execution_count": null,
   "id": "90e9cbd3",
   "metadata": {},
   "outputs": [],
   "source": []
  }
 ],
 "metadata": {
  "kernelspec": {
   "display_name": "jAG-workshop",
   "language": "python",
   "name": "python3"
  },
  "language_info": {
   "codemirror_mode": {
    "name": "ipython",
    "version": 3
   },
   "file_extension": ".py",
   "mimetype": "text/x-python",
   "name": "python",
   "nbconvert_exporter": "python",
   "pygments_lexer": "ipython3",
   "version": "3.13.3"
  }
 },
 "nbformat": 4,
 "nbformat_minor": 5
}
