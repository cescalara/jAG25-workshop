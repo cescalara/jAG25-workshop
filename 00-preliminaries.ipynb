{
 "cells": [
  {
   "cell_type": "markdown",
   "id": "c9972de6",
   "metadata": {},
   "source": [
    "## Setup\n",
    "\n",
    "### Recommended:\n",
    "\n",
    "1. Fork or clone the [GitHub repository](https://github.com/cescalara/jAG25-workshop.git) containing the course material, so that you have it locally\n",
    "\n",
    "```git clone https://github.com/cescalara/jAG25-workshop.git```\n",
    "\n",
    "2. Install the necessary python packages (using a virtual environment if possible)\n",
    "\n",
    "```pip install numpy scipy matplotlib ipykernel cmdstanpy arviz```\n",
    "\n",
    "3. Install the `cmdstan` package that we will use to run fits\n",
    "\n",
    "```install_cmdstan```\n",
    "\n",
    "4. Open the notebook using Jupyter, select the correct python kernel and get going.\n",
    "\n",
    "### Backup option in case of problems: \n",
    "\n",
    "Click [here]() to launch a notebook using binder. All notebooks can be found in `work/`.\n",
    "\n",
    "* The binder may take a while to load, this is normal\n",
    "\n",
    "* Using binder you will automatically time out of sessions if you are inactive for more than 10 minutes, so save your work frequently\n",
    "\n",
    "* The changes that you make are not persistent - if you close and repoen a tab your changes will be lost\n",
    "\n",
    "* To work continuously, download and upload your changes between active sessions"
   ]
  },
  {
   "cell_type": "markdown",
   "id": "83a128a8",
   "metadata": {
    "vscode": {
     "languageId": "plaintext"
    }
   },
   "source": [
    "We can check the necessary packages are installed"
   ]
  },
  {
   "cell_type": "code",
   "execution_count": 1,
   "id": "9c2a9d7a",
   "metadata": {},
   "outputs": [],
   "source": [
    "import numpy as np\n",
    "from matplotlib import pyplot as plt\n",
    "from scipy import stats\n",
    "import arviz as av\n",
    "from cmdstanpy import CmdStanModel"
   ]
  },
  {
   "cell_type": "markdown",
   "id": "3f9b94b3",
   "metadata": {},
   "source": [
    "### Basic probability distributions\n",
    "\n",
    "Useful references:\n",
    "\n",
    "* scipy: https://docs.scipy.org/doc/scipy/reference/ "
   ]
  },
  {
   "cell_type": "markdown",
   "id": "d0edf69e",
   "metadata": {},
   "source": [
    "Plot the probability density function for a narrow uniform distribution between 1.1 and 1.6, with zero probability elsewhere"
   ]
  },
  {
   "cell_type": "code",
   "execution_count": 29,
   "id": "660853ac",
   "metadata": {},
   "outputs": [
    {
     "data": {
      "text/plain": [
       "Text(0, 0.5, 'p(x)')"
      ]
     },
     "execution_count": 29,
     "metadata": {},
     "output_type": "execute_result"
    },
    {
     "data": {
      "image/png": "[encoded data removed]",
      "text/plain": [
       "<Figure size 640x480 with 1 Axes>"
      ]
     },
     "metadata": {},
     "output_type": "display_data"
    }
   ],
   "source": [
    "x = np.linspace(1.0, 2.0, 400)\n",
    "uniform_dist = stats.uniform(1.1, 0.5)\n",
    "\n",
    "fig, ax = plt.subplots()\n",
    "ax.plot(x, uniform_dist.pdf(x))\n",
    "ax.set_xlabel(\"x\")\n",
    "ax.set_ylabel(\"p(x)\")"
   ]
  },
  {
   "cell_type": "markdown",
   "id": "5237fa42",
   "metadata": {},
   "source": [
    "What is the probability density at x=1.2?"
   ]
  },
  {
   "cell_type": "code",
   "execution_count": 30,
   "id": "576a093b",
   "metadata": {},
   "outputs": [
    {
     "data": {
      "text/plain": [
       "np.float64(2.0)"
      ]
     },
     "execution_count": 30,
     "metadata": {},
     "output_type": "execute_result"
    }
   ],
   "source": [
    "uniform_dist.pdf(1.2)"
   ]
  },
  {
   "cell_type": "markdown",
   "id": "cf7d785f",
   "metadata": {},
   "source": [
    "What is the integral of the probability density?\n",
    "\n",
    "$\\int_{-\\infty}^{\\infty} p(x)dx=?$\n"
   ]
  },
  {
   "cell_type": "code",
   "execution_count": null,
   "id": "97933083",
   "metadata": {},
   "outputs": [],
   "source": [
    "# TODO by you\n"
   ]
  },
  {
   "cell_type": "markdown",
   "id": "cde7dc56",
   "metadata": {},
   "source": [
    "Create a normal distribution object (`scipy.stats.norm`) centered at 1.5 with standard deviation 0.02. Plot its probability density distribution (PDF), and cumulative distribution function (CDF).\n"
   ]
  },
  {
   "cell_type": "code",
   "execution_count": 33,
   "id": "39a6f451",
   "metadata": {},
   "outputs": [],
   "source": [
    "# norm_dist = ..."
   ]
  },
  {
   "cell_type": "markdown",
   "id": "fd72c88a",
   "metadata": {},
   "source": [
    "How much probability is below 1.48?"
   ]
  },
  {
   "cell_type": "code",
   "execution_count": 34,
   "id": "fc2de1e9",
   "metadata": {},
   "outputs": [],
   "source": [
    "# ..."
   ]
  },
  {
   "cell_type": "markdown",
   "id": "bc194b55",
   "metadata": {},
   "source": [
    "How much probability is below 1.52?"
   ]
  },
  {
   "cell_type": "code",
   "execution_count": 35,
   "id": "4439f329",
   "metadata": {},
   "outputs": [],
   "source": [
    "# ..."
   ]
  },
  {
   "cell_type": "markdown",
   "id": "8c155abb",
   "metadata": {},
   "source": [
    "Combine the above to find out how much probability is between 1.44 and 1.56. Dos this match what you expect from \"3 sigma\"?"
   ]
  },
  {
   "cell_type": "code",
   "execution_count": 36,
   "id": "037232ab",
   "metadata": {},
   "outputs": [],
   "source": [
    "# ..."
   ]
  },
  {
   "cell_type": "markdown",
   "id": "e6d2d9b4",
   "metadata": {},
   "source": [
    "## Generating random numbers\n",
    "\n",
    "Useful references:\n",
    "\n",
    "* numpy.random: https://docs.scipy.org/doc/numpy-1.14.0/reference/routines.random.html \n",
    "* numpy User guide: https://numpy.org/doc/stable/user/\n",
    "* matplotlib for plotting: https://matplotlib.org/"
   ]
  },
  {
   "cell_type": "markdown",
   "id": "2eef1627",
   "metadata": {},
   "source": [
    "Create a grid from 1 to 1.5 with 101 points:"
   ]
  },
  {
   "cell_type": "code",
   "execution_count": 38,
   "id": "57aa1ac4",
   "metadata": {},
   "outputs": [
    {
     "data": {
      "text/plain": [
       "array([1.   , 1.005, 1.01 , 1.015, 1.02 , 1.025, 1.03 , 1.035, 1.04 ,\n",
       "       1.045, 1.05 , 1.055, 1.06 , 1.065, 1.07 , 1.075, 1.08 , 1.085,\n",
       "       1.09 , 1.095, 1.1  , 1.105, 1.11 , 1.115, 1.12 , 1.125, 1.13 ,\n",
       "       1.135, 1.14 , 1.145, 1.15 , 1.155, 1.16 , 1.165, 1.17 , 1.175,\n",
       "       1.18 , 1.185, 1.19 , 1.195, 1.2  , 1.205, 1.21 , 1.215, 1.22 ,\n",
       "       1.225, 1.23 , 1.235, 1.24 , 1.245, 1.25 , 1.255, 1.26 , 1.265,\n",
       "       1.27 , 1.275, 1.28 , 1.285, 1.29 , 1.295, 1.3  , 1.305, 1.31 ,\n",
       "       1.315, 1.32 , 1.325, 1.33 , 1.335, 1.34 , 1.345, 1.35 , 1.355,\n",
       "       1.36 , 1.365, 1.37 , 1.375, 1.38 , 1.385, 1.39 , 1.395, 1.4  ,\n",
       "       1.405, 1.41 , 1.415, 1.42 , 1.425, 1.43 , 1.435, 1.44 , 1.445,\n",
       "       1.45 , 1.455, 1.46 , 1.465, 1.47 , 1.475, 1.48 , 1.485, 1.49 ,\n",
       "       1.495, 1.5  ])"
      ]
     },
     "execution_count": 38,
     "metadata": {},
     "output_type": "execute_result"
    }
   ],
   "source": [
    "xgrid = np.linspace(1, 1.5, 101)\n",
    "xgrid"
   ]
  },
  {
   "cell_type": "markdown",
   "id": "26b85714",
   "metadata": {},
   "source": [
    "Set the seed to 42"
   ]
  },
  {
   "cell_type": "code",
   "execution_count": 39,
   "id": "7b7b920f",
   "metadata": {},
   "outputs": [],
   "source": [
    "np.random.seed(42)"
   ]
  },
  {
   "cell_type": "markdown",
   "id": "5e4d8a01",
   "metadata": {},
   "source": [
    "For each value, generate a random number, Gaussian distributed centered at that value.\n",
    "Use standard deviation of 0.1 for the noise introduced."
   ]
  },
  {
   "cell_type": "code",
   "execution_count": 41,
   "id": "93336ee4",
   "metadata": {},
   "outputs": [],
   "source": [
    "# measured = ..."
   ]
  },
  {
   "cell_type": "markdown",
   "id": "b5683fbe",
   "metadata": {},
   "source": [
    "Plot one against the other as a scatter plot. Assign each point a error bar of 0.1.\n"
   ]
  },
  {
   "cell_type": "code",
   "execution_count": 42,
   "id": "8993b385",
   "metadata": {},
   "outputs": [
    {
     "ename": "NameError",
     "evalue": "name 'measured' is not defined",
     "output_type": "error",
     "traceback": [
      "\u001b[31m---------------------------------------------------------------------------\u001b[39m",
      "\u001b[31mNameError\u001b[39m                                 Traceback (most recent call last)",
      "\u001b[36mCell\u001b[39m\u001b[36m \u001b[39m\u001b[32mIn[42]\u001b[39m\u001b[32m, line 1\u001b[39m\n\u001b[32m----> \u001b[39m\u001b[32m1\u001b[39m plt.errorbar(x=xgrid, y=\u001b[43mmeasured\u001b[49m, yerr=\u001b[32m0.1\u001b[39m, marker=\u001b[33m'\u001b[39m\u001b[33mo\u001b[39m\u001b[33m'\u001b[39m, ls=\u001b[33m'\u001b[39m\u001b[33m \u001b[39m\u001b[33m'\u001b[39m)\n\u001b[32m      2\u001b[39m plt.plot(xgrid, xgrid)\n\u001b[32m      3\u001b[39m plt.xlabel(\u001b[33m'\u001b[39m\u001b[33mx values\u001b[39m\u001b[33m'\u001b[39m)\n",
      "\u001b[31mNameError\u001b[39m: name 'measured' is not defined"
     ]
    }
   ],
   "source": [
    "plt.errorbar(x=xgrid, y=measured, yerr=0.1, marker='o', ls=' ')\n",
    "plt.plot(xgrid, xgrid)\n",
    "plt.xlabel('x values')\n",
    "plt.ylabel('Measured values');"
   ]
  },
  {
   "cell_type": "markdown",
   "id": "e3b448d4",
   "metadata": {},
   "source": [
    "Plot a histogram of the measured values.\n"
   ]
  },
  {
   "cell_type": "code",
   "execution_count": 44,
   "id": "ad6bb020",
   "metadata": {},
   "outputs": [
    {
     "data": {
      "image/png": "[encoded data removed]",
      "text/plain": [
       "<Figure size 640x480 with 1 Axes>"
      ]
     },
     "metadata": {},
     "output_type": "display_data"
    }
   ],
   "source": [
    "fig, ax = plt.subplots()\n",
    "# ax.hist(...)"
   ]
  },
  {
   "cell_type": "markdown",
   "id": "1d3d882b",
   "metadata": {},
   "source": [
    "Compute summary statistics of this distribution: mean, median, standard deviation, 1% and 99% quantile."
   ]
  },
  {
   "cell_type": "code",
   "execution_count": 45,
   "id": "2e637031",
   "metadata": {},
   "outputs": [],
   "source": [
    "# np.mean(...)\n",
    "# np.quantile(...)"
   ]
  },
  {
   "cell_type": "code",
   "execution_count": null,
   "id": "90e9cbd3",
   "metadata": {},
   "outputs": [],
   "source": []
  }
 ],
 "metadata": {
  "kernelspec": {
   "display_name": "jAG-workshop",
   "language": "python",
   "name": "python3"
  },
  "language_info": {
   "codemirror_mode": {
    "name": "ipython",
    "version": 3
   },
   "file_extension": ".py",
   "mimetype": "text/x-python",
   "name": "python",
   "nbconvert_exporter": "python",
   "pygments_lexer": "ipython3",
   "version": "3.13.3"
  }
 },
 "nbformat": 4,
 "nbformat_minor": 5
}
